{
 "cells": [
  {
   "cell_type": "markdown",
   "id": "40145431-20f1-4505-8e1d-76180328f553",
   "metadata": {},
   "source": [
    "[![Open in Google Colab](https://colab.research.google.com/assets/colab-badge.svg)](https://colab.research.google.com/github/eagalpern/folding-ising-globular/blob/master/run_ising_model.ipynb)\n"
   ]
  },
  {
   "cell_type": "code",
   "execution_count": 1,
   "id": "43bcb670-5a05-477d-8079-bb5cedee7800",
   "metadata": {
    "tags": []
   },
   "outputs": [],
   "source": [
    "import pandas as pd\n",
    "from matplotlib import pyplot as plt, colors\n",
    "import numpy as np\n",
    "import os\n",
    "\n",
    "import pickle\n",
    "import sys\n",
    "import seaborn as sns\n",
    "import json"
   ]
  },
  {
   "cell_type": "code",
   "execution_count": 2,
   "id": "ead2f2e6-891c-474b-8912-a7377e6a5560",
   "metadata": {
    "tags": []
   },
   "outputs": [],
   "source": [
    "sys.path.append('../source/')\n",
    "from fasta_utils import *\n",
    "from visualization import *\n",
    "from plot_results import *\n",
    "from ising_simulation import *\n",
    "from utils import *"
   ]
  },
  {
   "cell_type": "code",
   "execution_count": 3,
   "id": "6c9aa858-47bf-4220-bc06-2683358aa72b",
   "metadata": {
    "tags": []
   },
   "outputs": [],
   "source": [
    "path ='/home/ezequiel/libraries/folding-ising-globular/'\n",
    "tsel_fam = pd.read_csv(path+'data/table_s1.csv', index_col =0)\n",
    "tsel_fam['foldon_breaks']= tsel_fam.foldon_breaks.apply(lambda x: np.array(json.loads(x)))\n",
    "# esta no tiene el nombre de los MSA ni las carpetas, usar con la version simplificada"
   ]
  },
  {
   "cell_type": "code",
   "execution_count": 4,
   "id": "f48bd4f5-0358-411b-8330-2cac0d9c2b51",
   "metadata": {
    "tags": []
   },
   "outputs": [
    {
     "data": {
      "text/plain": [
       "'ACBP'"
      ]
     },
     "execution_count": 4,
     "metadata": {},
     "output_type": "execute_result"
    }
   ],
   "source": [
    "i = 0\n",
    "family = tsel_fam.family[i]\n",
    "family"
   ]
  },
  {
   "cell_type": "code",
   "execution_count": 5,
   "id": "0df5c3a4-1486-4d32-9cf8-4c47d8dea0dd",
   "metadata": {
    "tags": []
   },
   "outputs": [],
   "source": [
    "\n",
    "\n",
    "# loading from my google drive for now\n",
    "potts_path = '/home/ezequiel/Deposit/ising_rbm/simplified_rbm_and_msa/'\n",
    "# potts model\n",
    "# potts['h'] local field\n",
    "# potts['J'] couplings\n",
    "\n",
    "potts = np.load(potts_path+family+'/potts.npz')\n",
    "fasta_file = get_fasta_file(potts_path+family)\n",
    "fastapath = potts_path+family+'/'+fasta_file"
   ]
  },
  {
   "cell_type": "code",
   "execution_count": 6,
   "id": "bc19ed36-0185-4575-a1d2-76ed88855362",
   "metadata": {},
   "outputs": [],
   "source": [
    "# family"
   ]
  },
  {
   "cell_type": "code",
   "execution_count": 7,
   "id": "004a001a-1dee-4e5f-ab55-b832fd4962db",
   "metadata": {
    "tags": []
   },
   "outputs": [],
   "source": [
    "# Sequence\n",
    "uniprot_id = tsel_fam.target_seq[i].split('.')[0]\n",
    "seq_=extract_sequence_from_fasta(uniprot_id,fastapath)\n",
    "seq=np.array([np.char.upper(x) for x in seq_])\n",
    "seq_len = len(seq)"
   ]
  },
  {
   "cell_type": "code",
   "execution_count": 8,
   "id": "bf1bc894-a842-4a77-969c-a6bed144a13f",
   "metadata": {
    "tags": []
   },
   "outputs": [],
   "source": [
    "# Selection Temperature\n",
    "Tsel = tsel_fam.Tsel[i]"
   ]
  },
  {
   "cell_type": "code",
   "execution_count": 9,
   "id": "7352b3e1-43b4-43ae-be17-5bfac479c704",
   "metadata": {},
   "outputs": [],
   "source": [
    "# Foldon breaks\n",
    "breaks = tsel_fam.foldon_breaks[i]"
   ]
  },
  {
   "cell_type": "code",
   "execution_count": 10,
   "id": "9601cda4-5e26-4d34-9c3e-a4151973bd0e",
   "metadata": {},
   "outputs": [],
   "source": [
    "# PDB\n",
    "path_pdb = path + 'data/pdb_files/'\n",
    "pdb_code = tsel_fam.pdb_code[i]\n",
    "ali_seq_num_pdb = np.arange(tsel_fam.pdb_ali_beg[i], tsel_fam.pdb_ali_end[i]+1)"
   ]
  },
  {
   "cell_type": "code",
   "execution_count": 11,
   "id": "26fc00f4-a7c7-4e45-9166-dcd57128928d",
   "metadata": {},
   "outputs": [],
   "source": [
    "# DSSP data\n",
    "path_dssp = path+'data/dssp/'\n",
    "dssp_data = pd.read_csv(path_dssp+pdb_code+'.csv')\n",
    "positions =~np.isnan(dssp_data.exon_freq)"
   ]
  },
  {
   "cell_type": "code",
   "execution_count": 12,
   "id": "586f9ff0-ff4a-4d0f-b29f-3e2dd374d8e2",
   "metadata": {
    "tags": []
   },
   "outputs": [
    {
     "ename": "FileNotFoundError",
     "evalue": "/home/ezequiel/Deposit/ising_rbm/tests/multi_seq/reference_seqff_0 not found.",
     "output_type": "error",
     "traceback": [
      "\u001b[0;31m---------------------------------------------------------------------------\u001b[0m",
      "\u001b[0;31mFileNotFoundError\u001b[0m                         Traceback (most recent call last)",
      "File \u001b[0;32m<timed exec>:15\u001b[0m\n",
      "File \u001b[0;32m~/libraries/folding-ising-globular/notebooks/../source/ising_simulation.py:206\u001b[0m, in \u001b[0;36mising_simulation\u001b[0;34m(potts, breaks, folder, **kwargs)\u001b[0m\n\u001b[1;32m    204\u001b[0m folder_ \u001b[38;5;241m=\u001b[39m setup_paths(folder, params[\u001b[38;5;124m\"\u001b[39m\u001b[38;5;124mprot_name\u001b[39m\u001b[38;5;124m\"\u001b[39m], kwargs\u001b[38;5;241m.\u001b[39mget(\u001b[38;5;124m\"\u001b[39m\u001b[38;5;124mrun_str\u001b[39m\u001b[38;5;124m\"\u001b[39m, \u001b[38;5;124m'\u001b[39m\u001b[38;5;124m'\u001b[39m))\n\u001b[1;32m    205\u001b[0m run_simulation(seq, folder_, potts, breaks, params)\n\u001b[0;32m--> 206\u001b[0m features \u001b[38;5;241m=\u001b[39m extract_features(params[\u001b[38;5;124m'\u001b[39m\u001b[38;5;124mff_file\u001b[39m\u001b[38;5;124m'\u001b[39m], params[\u001b[38;5;124m'\u001b[39m\u001b[38;5;124mstates_file\u001b[39m\u001b[38;5;124m'\u001b[39m], \n\u001b[1;32m    207\u001b[0m                             params[\u001b[38;5;124m'\u001b[39m\u001b[38;5;124mq_hist_file\u001b[39m\u001b[38;5;124m'\u001b[39m], params[\u001b[38;5;124m'\u001b[39m\u001b[38;5;124mnwin\u001b[39m\u001b[38;5;124m'\u001b[39m], \n\u001b[1;32m    208\u001b[0m                             params[\u001b[38;5;124m'\u001b[39m\u001b[38;5;124mk\u001b[39m\u001b[38;5;124m'\u001b[39m], params[\u001b[38;5;124m'\u001b[39m\u001b[38;5;124mnum_cores\u001b[39m\u001b[38;5;124m'\u001b[39m], folder_)\n\u001b[1;32m    209\u001b[0m save_features(folder_, features)\n\u001b[1;32m    210\u001b[0m \u001b[38;5;28;01mreturn\u001b[39;00m features\n",
      "File \u001b[0;32m~/libraries/folding-ising-globular/notebooks/../source/utils.py:42\u001b[0m, in \u001b[0;36mextract_features\u001b[0;34m(ff_file, states_file, q_hist_file, nwin, k, num_cores, out_dir)\u001b[0m\n\u001b[1;32m     40\u001b[0m FE, obs, barr, eq_steps \u001b[38;5;241m=\u001b[39m FE_analysis(ff_file, q_hist_file, nwin, k, num_cores, out_dir)\n\u001b[1;32m     41\u001b[0m coop_score \u001b[38;5;241m=\u001b[39m (eq_steps[\u001b[38;5;241m1\u001b[39m:\u001b[38;5;241m-\u001b[39m\u001b[38;5;241m1\u001b[39m] \u001b[38;5;241m==\u001b[39m \u001b[38;5;241m0\u001b[39m)\u001b[38;5;241m.\u001b[39msum() \u001b[38;5;241m/\u001b[39m \u001b[38;5;28mlen\u001b[39m(eq_steps[\u001b[38;5;241m1\u001b[39m:\u001b[38;5;241m-\u001b[39m\u001b[38;5;241m1\u001b[39m])\n\u001b[0;32m---> 42\u001b[0m tf, width, std_tf, std_width \u001b[38;5;241m=\u001b[39m sigmoid_ff_fit_i(out_dir, num_cores)\n\u001b[1;32m     44\u001b[0m \u001b[38;5;28;01mreturn\u001b[39;00m {\n\u001b[1;32m     45\u001b[0m     \u001b[38;5;124m\"\u001b[39m\u001b[38;5;124mtf\u001b[39m\u001b[38;5;124m\"\u001b[39m: tf,\n\u001b[1;32m     46\u001b[0m     \u001b[38;5;124m\"\u001b[39m\u001b[38;5;124mwidth\u001b[39m\u001b[38;5;124m\"\u001b[39m: width,\n\u001b[0;32m   (...)\u001b[0m\n\u001b[1;32m     50\u001b[0m     \u001b[38;5;124m\"\u001b[39m\u001b[38;5;124mt_\u001b[39m\u001b[38;5;124m\"\u001b[39m: t_,\n\u001b[1;32m     51\u001b[0m }\n",
      "File \u001b[0;32m~/libraries/folding-ising-globular/notebooks/../source/fit_ff.py:52\u001b[0m, in \u001b[0;36msigmoid_ff_fit_i\u001b[0;34m(out_dir, num_cores)\u001b[0m\n\u001b[1;32m     50\u001b[0m \u001b[38;5;28;01mdef\u001b[39;00m \u001b[38;5;21msigmoid_ff_fit_i\u001b[39m(out_dir, num_cores):\n\u001b[1;32m     51\u001b[0m     \u001b[38;5;28;01mfor\u001b[39;00m i \u001b[38;5;129;01min\u001b[39;00m \u001b[38;5;28mrange\u001b[39m(num_cores):\n\u001b[0;32m---> 52\u001b[0m         ff\u001b[38;5;241m=\u001b[39mnp\u001b[38;5;241m.\u001b[39mloadtxt(out_dir\u001b[38;5;241m+\u001b[39m\u001b[38;5;124m'\u001b[39m\u001b[38;5;124mff_\u001b[39m\u001b[38;5;124m'\u001b[39m\u001b[38;5;241m+\u001b[39m\u001b[38;5;28mstr\u001b[39m(i))\n\u001b[1;32m     53\u001b[0m         \u001b[38;5;28;01mif\u001b[39;00m i\u001b[38;5;241m==\u001b[39m\u001b[38;5;241m0\u001b[39m:\n\u001b[1;32m     54\u001b[0m             ff_\u001b[38;5;241m=\u001b[39mnp\u001b[38;5;241m.\u001b[39mzeros((ff\u001b[38;5;241m.\u001b[39mshape[\u001b[38;5;241m0\u001b[39m],num_cores))\n",
      "File \u001b[0;32m~/anaconda3/envs/py311base/lib/python3.11/site-packages/numpy/lib/npyio.py:1373\u001b[0m, in \u001b[0;36mloadtxt\u001b[0;34m(fname, dtype, comments, delimiter, converters, skiprows, usecols, unpack, ndmin, encoding, max_rows, quotechar, like)\u001b[0m\n\u001b[1;32m   1370\u001b[0m \u001b[38;5;28;01mif\u001b[39;00m \u001b[38;5;28misinstance\u001b[39m(delimiter, \u001b[38;5;28mbytes\u001b[39m):\n\u001b[1;32m   1371\u001b[0m     delimiter \u001b[38;5;241m=\u001b[39m delimiter\u001b[38;5;241m.\u001b[39mdecode(\u001b[38;5;124m'\u001b[39m\u001b[38;5;124mlatin1\u001b[39m\u001b[38;5;124m'\u001b[39m)\n\u001b[0;32m-> 1373\u001b[0m arr \u001b[38;5;241m=\u001b[39m _read(fname, dtype\u001b[38;5;241m=\u001b[39mdtype, comment\u001b[38;5;241m=\u001b[39mcomment, delimiter\u001b[38;5;241m=\u001b[39mdelimiter,\n\u001b[1;32m   1374\u001b[0m             converters\u001b[38;5;241m=\u001b[39mconverters, skiplines\u001b[38;5;241m=\u001b[39mskiprows, usecols\u001b[38;5;241m=\u001b[39musecols,\n\u001b[1;32m   1375\u001b[0m             unpack\u001b[38;5;241m=\u001b[39munpack, ndmin\u001b[38;5;241m=\u001b[39mndmin, encoding\u001b[38;5;241m=\u001b[39mencoding,\n\u001b[1;32m   1376\u001b[0m             max_rows\u001b[38;5;241m=\u001b[39mmax_rows, quote\u001b[38;5;241m=\u001b[39mquotechar)\n\u001b[1;32m   1378\u001b[0m \u001b[38;5;28;01mreturn\u001b[39;00m arr\n",
      "File \u001b[0;32m~/anaconda3/envs/py311base/lib/python3.11/site-packages/numpy/lib/npyio.py:992\u001b[0m, in \u001b[0;36m_read\u001b[0;34m(fname, delimiter, comment, quote, imaginary_unit, usecols, skiplines, max_rows, converters, ndmin, unpack, dtype, encoding)\u001b[0m\n\u001b[1;32m    990\u001b[0m     fname \u001b[38;5;241m=\u001b[39m os\u001b[38;5;241m.\u001b[39mfspath(fname)\n\u001b[1;32m    991\u001b[0m \u001b[38;5;28;01mif\u001b[39;00m \u001b[38;5;28misinstance\u001b[39m(fname, \u001b[38;5;28mstr\u001b[39m):\n\u001b[0;32m--> 992\u001b[0m     fh \u001b[38;5;241m=\u001b[39m np\u001b[38;5;241m.\u001b[39mlib\u001b[38;5;241m.\u001b[39m_datasource\u001b[38;5;241m.\u001b[39mopen(fname, \u001b[38;5;124m'\u001b[39m\u001b[38;5;124mrt\u001b[39m\u001b[38;5;124m'\u001b[39m, encoding\u001b[38;5;241m=\u001b[39mencoding)\n\u001b[1;32m    993\u001b[0m     \u001b[38;5;28;01mif\u001b[39;00m encoding \u001b[38;5;129;01mis\u001b[39;00m \u001b[38;5;28;01mNone\u001b[39;00m:\n\u001b[1;32m    994\u001b[0m         encoding \u001b[38;5;241m=\u001b[39m \u001b[38;5;28mgetattr\u001b[39m(fh, \u001b[38;5;124m'\u001b[39m\u001b[38;5;124mencoding\u001b[39m\u001b[38;5;124m'\u001b[39m, \u001b[38;5;124m'\u001b[39m\u001b[38;5;124mlatin1\u001b[39m\u001b[38;5;124m'\u001b[39m)\n",
      "File \u001b[0;32m~/anaconda3/envs/py311base/lib/python3.11/site-packages/numpy/lib/_datasource.py:193\u001b[0m, in \u001b[0;36mopen\u001b[0;34m(path, mode, destpath, encoding, newline)\u001b[0m\n\u001b[1;32m    156\u001b[0m \u001b[38;5;250m\u001b[39m\u001b[38;5;124;03m\"\"\"\u001b[39;00m\n\u001b[1;32m    157\u001b[0m \u001b[38;5;124;03mOpen `path` with `mode` and return the file object.\u001b[39;00m\n\u001b[1;32m    158\u001b[0m \n\u001b[0;32m   (...)\u001b[0m\n\u001b[1;32m    189\u001b[0m \n\u001b[1;32m    190\u001b[0m \u001b[38;5;124;03m\"\"\"\u001b[39;00m\n\u001b[1;32m    192\u001b[0m ds \u001b[38;5;241m=\u001b[39m DataSource(destpath)\n\u001b[0;32m--> 193\u001b[0m \u001b[38;5;28;01mreturn\u001b[39;00m ds\u001b[38;5;241m.\u001b[39mopen(path, mode, encoding\u001b[38;5;241m=\u001b[39mencoding, newline\u001b[38;5;241m=\u001b[39mnewline)\n",
      "File \u001b[0;32m~/anaconda3/envs/py311base/lib/python3.11/site-packages/numpy/lib/_datasource.py:533\u001b[0m, in \u001b[0;36mDataSource.open\u001b[0;34m(self, path, mode, encoding, newline)\u001b[0m\n\u001b[1;32m    530\u001b[0m     \u001b[38;5;28;01mreturn\u001b[39;00m _file_openers[ext](found, mode\u001b[38;5;241m=\u001b[39mmode,\n\u001b[1;32m    531\u001b[0m                               encoding\u001b[38;5;241m=\u001b[39mencoding, newline\u001b[38;5;241m=\u001b[39mnewline)\n\u001b[1;32m    532\u001b[0m \u001b[38;5;28;01melse\u001b[39;00m:\n\u001b[0;32m--> 533\u001b[0m     \u001b[38;5;28;01mraise\u001b[39;00m \u001b[38;5;167;01mFileNotFoundError\u001b[39;00m(\u001b[38;5;124mf\u001b[39m\u001b[38;5;124m\"\u001b[39m\u001b[38;5;132;01m{\u001b[39;00mpath\u001b[38;5;132;01m}\u001b[39;00m\u001b[38;5;124m not found.\u001b[39m\u001b[38;5;124m\"\u001b[39m)\n",
      "\u001b[0;31mFileNotFoundError\u001b[0m: /home/ezequiel/Deposit/ising_rbm/tests/multi_seq/reference_seqff_0 not found."
     ]
    }
   ],
   "source": [
    "%%time\n",
    "\n",
    "simulation = True\n",
    "plot_dssp = True\n",
    "view3d = True\n",
    "plot_results = True\n",
    "\n",
    "output_dir = '/home/ezequiel/Deposit/ising_rbm/tests/'\n",
    "create_folder(output_dir)\n",
    "\n",
    "prot_name = 'reference_seq'\n",
    "vmin= 250\n",
    "vmax = 500\n",
    "\n",
    "\n",
    "if simulation:\n",
    "    features = ising_simulation(potts,\n",
    "                               breaks,\n",
    "                               output_dir,\n",
    "                               seq=seq,\n",
    "                               prot_name = prot_name,\n",
    "                               Tsel = Tsel,\n",
    "                               si0=0.005, # same as in ank paper\n",
    "                               k=0.001985875, # [kcal /(mol K)]\n",
    "                               tini_=vmin,\n",
    "                               tfin_=vmax,\n",
    "                               DT=10,\n",
    "                               cp_factor=20,\n",
    "                               interactions_off=False)\n",
    "                            #cp_factor=5000) # MC  # changed this from 20 for 3,9,10\n",
    "\n",
    "if view3d:\n",
    "    t_ = load_features(output_dir+prot_name+'/')['t_']\n",
    "\n",
    "    #with open(output_dir+prot_name+'/features.pkl', \"rb\") as f:  \n",
    "    #            features = pickle.load(f)\n",
    "\n",
    "    \n",
    "\n",
    "    pdb_file= path_pdb+pdb_code+'_cleaned.pdb'\n",
    "\n",
    "\n",
    "    temps_seq_ref, colors_seq_ref =map_t_seq_3d(t_,\n",
    "                                              breaks,\n",
    "                                              seq_len,\n",
    "                                              rgb=True,\n",
    "                                              vmin=vmin, \n",
    "                                              vmax=vmax)\n",
    "\n",
    "\n",
    "    view=view_3d_exon_hist(ali_seq_num_pdb,[rgb2hex(c) for c in colors_seq_ref/255],\n",
    "                           pdb_file)\n",
    "    view.show()\n",
    "\n",
    "\n",
    "if plot_dssp:\n",
    "\n",
    "    \n",
    "    temps_seq_ref, colors_seq_ref =map_t_seq_3d(t_,\n",
    "                                              breaks,\n",
    "                                              seq_len,\n",
    "                                              rgb=True,\n",
    "                                              vmin=vmin, \n",
    "                                              vmax=vmax)\n",
    "    \n",
    "    fig,ax = plt.subplots(1,figsize=(8,0.5))\n",
    "    colors_pdb = np.array([[255.0,255.0,255.0]]*len(positions))\n",
    "    colors_pdb [positions] = colors_seq_ref \n",
    "    plot_ss_(dssp_data,colors_pdb / 255.0, ax)\n",
    "    ax.set_axis_off()\n",
    "    ax.set_title(family)\n",
    "    plt.show()\n",
    "\n",
    "if plot_results:\n",
    "    fig, ax = build_axes_2(1, 20,5.5)\n",
    "    ax_ff = ax[0]\n",
    "    ax_domains_and_fe = [ax[1],ax[2],ax[3]]\n",
    "    colors_d = plot_ising(output_dir,\n",
    "               ax_ff,\n",
    "               ax_domains_and_fe,\n",
    "               prot_name = prot_name,           \n",
    "               vmin = vmin, # que coincidan con los de la simualcion?\n",
    "               vmax = vmax,\n",
    "               lw=.6, # line width domains \n",
    "               lw_fq = 1.5, # line width df\n",
    "               alpha_fq= 1,# alpha df\n",
    "               inter_t = 1,# integer,  temperature interval for df\n",
    "               fontsize = 10,\n",
    "               noninf = False,\n",
    "               t0 = 50) # si los limites estan bien puestos es al pedo esto "
   ]
  },
  {
   "cell_type": "code",
   "execution_count": null,
   "id": "a9994102-0c01-46f9-88ae-22e159be9855",
   "metadata": {},
   "outputs": [],
   "source": []
  },
  {
   "cell_type": "code",
   "execution_count": null,
   "id": "9639ac6a-c720-4716-a35d-683d76a40641",
   "metadata": {},
   "outputs": [],
   "source": [
    "# arreglar esta funcion para multi y para una sola prot"
   ]
  },
  {
   "cell_type": "code",
   "execution_count": 13,
   "id": "32754115-983b-4237-b883-922f77224052",
   "metadata": {
    "tags": []
   },
   "outputs": [],
   "source": [
    "def setup_paths(folder, prot_name, run_str=\"\", multi = False):\n",
    "    \"\"\"\n",
    "    Set up directory paths for a given protein name and run identifier.\n",
    "    \n",
    "    Parameters:\n",
    "    - folder: Base directory for simulations.\n",
    "    - prot_name: Protein name used for directory naming.\n",
    "    - multi: For multiple runs, group into folder\n",
    "    - run_str: For multiple runs, optional string to differentiate runs.\n",
    "    \n",
    "    Returns:\n",
    "    - folder_: Path to the created protein-specific directory.\n",
    "    \"\"\"\n",
    "    if multi:\n",
    "        group_folder = os.path.join(folder, f\"multi_seq{run_str}\")\n",
    "        create_folder(group_folder)\n",
    "    else:\n",
    "        group_folder = folder\n",
    "    folder_ = os.path.join(group_folder, prot_name)\n",
    "    create_folder(folder_)\n",
    "    return folder_ + '/'"
   ]
  },
  {
   "cell_type": "code",
   "execution_count": null,
   "id": "b5a76a91-b6d5-471b-8b48-150610974a55",
   "metadata": {},
   "outputs": [],
   "source": []
  }
 ],
 "metadata": {
  "kernelspec": {
   "display_name": "py311base",
   "language": "python",
   "name": "py311base"
  },
  "language_info": {
   "codemirror_mode": {
    "name": "ipython",
    "version": 3
   },
   "file_extension": ".py",
   "mimetype": "text/x-python",
   "name": "python",
   "nbconvert_exporter": "python",
   "pygments_lexer": "ipython3",
   "version": "3.11.9"
  }
 },
 "nbformat": 4,
 "nbformat_minor": 5
}
